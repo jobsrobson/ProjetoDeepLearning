{
  "nbformat": 4,
  "nbformat_minor": 0,
  "metadata": {
    "colab": {
      "provenance": [],
      "authorship_tag": "ABX9TyOO28yeoj/XfqYZbty5/4gI",
      "include_colab_link": true
    },
    "kernelspec": {
      "name": "python3",
      "display_name": "Python 3"
    },
    "language_info": {
      "name": "python"
    }
  },
  "cells": [
    {
      "cell_type": "markdown",
      "metadata": {
        "id": "view-in-github",
        "colab_type": "text"
      },
      "source": [
        "<a href=\"https://colab.research.google.com/github/jobsrobson/ProjetoDeepLearning/blob/main/Execu%C3%A7%C3%A3o_ReciclaAI.ipynb\" target=\"_parent\"><img src=\"https://colab.research.google.com/assets/colab-badge.svg\" alt=\"Open In Colab\"/></a>"
      ]
    },
    {
      "cell_type": "code",
      "source": [
        "# ------------------------------------------------------------------------------\n",
        "# CÉLULA 1: INSTALAÇÃO DAS DEPENDÊNCIAS\n",
        "# ------------------------------------------------------------------------------\n",
        "# Instala as bibliotecas necessárias para o projeto\n",
        "!pip install pyngrok"
      ],
      "metadata": {
        "id": "CmYS19udN19d"
      },
      "execution_count": null,
      "outputs": []
    },
    {
      "cell_type": "code",
      "source": [
        "# ------------------------------------------------------------------------------\n",
        "# CÉLULA 2: CONFIGURAÇÃO DO NGROK\n",
        "# ------------------------------------------------------------------------------\n",
        "\n",
        "from pyngrok import ngrok\n",
        "import os\n",
        "\n",
        "# Token do NGROK\n",
        "from google.colab import userdata\n",
        "\n",
        "# Busca o token a partir do gerenciador de segredos do Colab\n",
        "try:\n",
        "    token = userdata.get('NGROK_AUTH_TOKEN')\n",
        "    ngrok.set_auth_token(token)\n",
        "    print(\"✅ Token do Ngrok configurado com sucesso a partir do Colab Secrets!\")\n",
        "except:\n",
        "    print(\"❌ ERRO: Segredo 'NGROK_AUTH_TOKEN' não encontrado.\")"
      ],
      "metadata": {
        "id": "8krspHooN2ub"
      },
      "execution_count": null,
      "outputs": []
    },
    {
      "cell_type": "code",
      "source": [
        "# ------------------------------------------------------------------------------\n",
        "# CÉLULA 3: CLONANDO O REPOSITÓRIO DO GITHUB\n",
        "# ------------------------------------------------------------------------------\n",
        "# Esta célula irá baixar o projeto do GitHub para o ambiente do Colab\n",
        "# Se a pasta já existir, vamos removê-la para garantir uma clonagem limpa\n",
        "if os.path.exists('ProjetoDeepLearning'):\n",
        "    !rm -rf ProjetoDeepLearning\n",
        "\n",
        "!git clone https://github.com/jobsrobson/ProjetoDeepLearning.git\n",
        "\n",
        "# Entrar na pasta do projeto\n",
        "%cd ProjetoDeepLearning\n",
        "\n",
        "# Criar a pasta de uploads\n",
        "!mkdir -p file_uploaded"
      ],
      "metadata": {
        "id": "zTvr5pmoOCMD"
      },
      "execution_count": null,
      "outputs": []
    },
    {
      "cell_type": "code",
      "source": [
        "# ------------------------------------------------------------------------------\n",
        "# CÉLULA 4: EXECUTANDO A APLICAÇÃO\n",
        "# ------------------------------------------------------------------------------\n",
        "\n",
        "import sys\n",
        "\n",
        "# Adiciona a pasta 'flaskr' ao caminho do Python\n",
        "sys.path.append('/content/ProjetoDeepLearning/flaskr')\n",
        "\n",
        "# Importa o arquivo do app\n",
        "from flaskr import app\n",
        "\n",
        "# Garante que o Flask salve e sirva os arquivos do mesmo diretório exato\n",
        "upload_path = os.path.abspath('file_uploaded')\n",
        "app.config['UPLOAD_FOLDER'] = upload_path\n",
        "print(f\"✅ Pasta de upload redefinida para o caminho absoluto: {app.config['UPLOAD_FOLDER']}\")\n",
        "\n",
        "# Inicia um túnel público para a porta 5000\n",
        "public_url = ngrok.connect(5000)\n",
        "print(\"====================================================================\")\n",
        "print(f\"✅ Link público: {public_url}\")\n",
        "print(\"====================================================================\")\n",
        "\n",
        "# Roda a aplicação\n",
        "app.run()"
      ],
      "metadata": {
        "id": "jtXxl6ItOL-j"
      },
      "execution_count": null,
      "outputs": []
    }
  ]
}